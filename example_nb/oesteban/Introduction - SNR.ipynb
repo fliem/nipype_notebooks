{
 "cells": [
  {
   "cell_type": "markdown",
   "metadata": {},
   "source": [
    "Calculating SNR on brain MRI\n",
    "----------------------------\n",
    "\n",
    "SNR (signal to noise ratio) is a MUST-have NR-IQM (no reference, image quality metric) for quality assessment protocols.\n",
    "The problem is, in theory, very easy. One just needs to apply the definition of the SNR of a signal:"
   ]
  },
  {
   "cell_type": "code",
   "execution_count": null,
   "metadata": {
    "collapsed": true
   },
   "outputs": [],
   "source": [
    "def snr(img):\n",
    "    fg_mean = img.mean()\n",
    "    bg_std = img.std()\n",
    "    return float(fg_mean / bg_std)"
   ]
  },
  {
   "cell_type": "markdown",
   "metadata": {},
   "source": [
    "However, this definition is not directly applicable to MRI of the human brain. A first improvement would include two masks to indicate where signal and noise are computed."
   ]
  },
  {
   "cell_type": "code",
   "execution_count": null,
   "metadata": {
    "collapsed": true
   },
   "outputs": [],
   "source": [
    "def snr(img, smask, nmask):\n",
    "    fg_mean = img[smask > 0].mean()\n",
    "    bg_std = img[nmask > 0].std()\n",
    "    return float(fg_mean / bg_std)"
   ]
  },
  {
   "cell_type": "markdown",
   "metadata": {},
   "source": [
    "We may want to be able to compute signal and noise within the same object (typically the brightest tissue, the white-matter in T1-weighted images).\n",
    "\n",
    "Additionally, we will also include [Bessel's correction](https://en.wikipedia.org/wiki/Bessel%27s_correction) for the variance calculation."
   ]
  },
  {
   "cell_type": "code",
   "execution_count": null,
   "metadata": {
    "collapsed": true
   },
   "outputs": [],
   "source": [
    "import numpy as np\n",
    "\n",
    "\n",
    "def snr(img, smask, nmask=None):\n",
    "    fg_mean = np.median(img[smask > 0])\n",
    "\n",
    "    if nmask is None:\n",
    "        nmask = smask\n",
    "\n",
    "    # Manually compute sigma, using Bessel's correction (the - 1 in the normalizer)\n",
    "    bg_mean = np.median(img[nmask > 0])\n",
    "    bg_std = np.sqrt(np.sum((img[nmask > 0] - bg_mean) ** 2) / (np.sum(nmask) - 1))\n",
    "    return float(fg_mean / bg_std)"
   ]
  },
  {
   "cell_type": "markdown",
   "metadata": {},
   "source": [
    "Further improvement may include the correction proposed by [Dietrich et al. 2007](http://dx.doi.org/10.1002/jmri.20969), when a mask of the air surounding the head is calculated:"
   ]
  },
  {
   "cell_type": "code",
   "execution_count": null,
   "metadata": {
    "collapsed": true
   },
   "outputs": [],
   "source": [
    "from math import pi\n",
    "import numpy as np\n",
    "\n",
    "\n",
    "def snr(img, smask, nmask=None):\n",
    "    fg_mean = np.median(img[smask > 0])\n",
    "\n",
    "    if nmask is None:\n",
    "        nmask = smask\n",
    "        # Manually compute sigma, using Bessel's correction (the - 1 in the normalizer)\n",
    "        bg_mean = np.median(img[nmask > 0])\n",
    "        bg_std = np.sqrt(np.sum((img[nmask > 0] - bg_mean) ** 2) / (np.sum(nmask) - 1))\n",
    "    else:\n",
    "        bg_std = np.sqrt(2.0/(4.0 - pi)) * img[nmask > 0].std(ddof=1)\n",
    "    return float(fg_mean / bg_std)"
   ]
  },
  {
   "cell_type": "markdown",
   "metadata": {},
   "source": [
    "Example\n",
    "-------\n",
    "\n",
    "Once we have defined our `snr` function, it is time to apply it in an image. We will first need to have some libraries available. Also we set the notebook in inline mode to show plots in the result of the cell."
   ]
  },
  {
   "cell_type": "code",
   "execution_count": null,
   "metadata": {
    "collapsed": false
   },
   "outputs": [],
   "source": [
    "%matplotlib inline\n",
    "import warnings\n",
    "warnings.simplefilter(\"ignore\")\n",
    "\n",
    "import numpy as np\n",
    "import matplotlib.pyplot as plt\n",
    "import nibabel as nib"
   ]
  },
  {
   "cell_type": "markdown",
   "metadata": {},
   "source": [
    "We define a function to visualize the image"
   ]
  },
  {
   "cell_type": "code",
   "execution_count": null,
   "metadata": {
    "collapsed": true
   },
   "outputs": [],
   "source": [
    "def plot_slice(fname, z_idx=100):\n",
    "\n",
    "    # Load the image and collect the data\n",
    "    # and orientation information\n",
    "    img = nib.load(fname)\n",
    "    data = img.get_data()\n",
    "    aff = img.get_affine()\n",
    "\n",
    "    # Find the center of the brain matrix\n",
    "    ctr = np.dot(np.linalg.inv(aff), [0, 0, 0, 1])[:3]\n",
    "\n",
    "    # Plot the data\n",
    "    vmin, vmax = (0, 1) if data.dtype == np.int16 else (30, 150)\n",
    "    plt.imshow(np.rot90(data[:, :, ctr[2] + z_idx]), \n",
    "               cmap=\"gray\")\n",
    "    plt.gca().set_axis_off()"
   ]
  },
  {
   "cell_type": "markdown",
   "metadata": {},
   "source": [
    "We can now inspect the T1 image and the mask we will use to compute the SNR."
   ]
  },
  {
   "cell_type": "code",
   "execution_count": null,
   "metadata": {
    "collapsed": false
   },
   "outputs": [],
   "source": [
    "plot_slice(\"data/T1w-noise.nii.gz\")"
   ]
  },
  {
   "cell_type": "code",
   "execution_count": null,
   "metadata": {
    "collapsed": false
   },
   "outputs": [],
   "source": [
    "plot_slice(\"data/white.nii.gz\")"
   ]
  },
  {
   "cell_type": "markdown",
   "metadata": {},
   "source": [
    "Let's load the images:"
   ]
  },
  {
   "cell_type": "code",
   "execution_count": null,
   "metadata": {
    "collapsed": false
   },
   "outputs": [],
   "source": [
    "im = nib.load('data/T1w-noise.nii.gz').get_data()\n",
    "mask = nib.load('data/white.nii.gz').get_data()\n",
    "mask[mask < 0.5] = 0\n",
    "mask[mask >= 0.5] = 1\n",
    "n = snr(im, mask)\n",
    "print 'Estimated SNR=%.4f' % n "
   ]
  },
  {
   "cell_type": "code",
   "execution_count": null,
   "metadata": {
    "collapsed": true
   },
   "outputs": [],
   "source": []
  }
 ],
 "metadata": {
  "kernelspec": {
   "display_name": "Python 2",
   "language": "python",
   "name": "python2"
  },
  "language_info": {
   "codemirror_mode": {
    "name": "ipython",
    "version": 2
   },
   "file_extension": ".py",
   "mimetype": "text/x-python",
   "name": "python",
   "nbconvert_exporter": "python",
   "pygments_lexer": "ipython2",
   "version": "2.7.11"
  }
 },
 "nbformat": 4,
 "nbformat_minor": 0
}
