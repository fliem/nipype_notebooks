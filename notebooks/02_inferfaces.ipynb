{
 "cells": [
  {
   "cell_type": "markdown",
   "metadata": {
    "slideshow": {
     "slide_type": "slide"
    }
   },
   "source": [
    "# Interfaces"
   ]
  },
  {
   "cell_type": "markdown",
   "metadata": {
    "slideshow": {
     "slide_type": "-"
    }
   },
   "source": [
    "Interfaces provide the link between nipype and the external software (e.g., nipy or fsl; see http://nipy.org/nipype/users/interface_tutorial.html)\n",
    "\n",
    "Nipype's interface modules are located at __nipype.interfaces__. \n",
    "\n",
    "For this tutorial we are going to work with functions from [Nipy](http://nipy.org/packages/nipy/index.html). We will see how to import interface modules, how to set options and run interfaces. For this purpose we will take a functional MRI time series and create a new file that contains only the first 10 volumes."
   ]
  },
  {
   "cell_type": "markdown",
   "metadata": {
    "slideshow": {
     "slide_type": "slide"
    }
   },
   "source": [
    "Let's create a directory to work in"
   ]
  },
  {
   "cell_type": "code",
   "execution_count": 1,
   "metadata": {
    "collapsed": false
   },
   "outputs": [
    {
     "name": "stdout",
     "output_type": "stream",
     "text": [
      "/Users/franzliem/Dropbox/Workspace/nipype_notebooks/notebooks/outputs/02_inferface\n"
     ]
    }
   ],
   "source": [
    "import os\n",
    "try:\n",
    "    os.chdir(notebook_path)\n",
    "except:\n",
    "    notebook_path = os.path.abspath('.')\n",
    "\n",
    "output_path = os.path.abspath('outputs')\n",
    "if not os.path.exists(output_path):\n",
    "    os.mkdir(output_path)\n",
    "    \n",
    "wd_path = os.path.join(output_path, '02_inferface')\n",
    "if not os.path.exists(wd_path):\n",
    "    os.mkdir(wd_path)\n",
    "os.chdir(wd_path)\n",
    "print(wd_path)"
   ]
  },
  {
   "cell_type": "markdown",
   "metadata": {},
   "source": [
    "Data is located in a folder called data. We will take one subject's funtional run."
   ]
  },
  {
   "cell_type": "code",
   "execution_count": 2,
   "metadata": {
    "collapsed": false
   },
   "outputs": [
    {
     "name": "stdout",
     "output_type": "stream",
     "text": [
      "/Users/franzliem/Dropbox/Workspace/nipype_notebooks/notebooks/data/ds107/sub001/BOLD/task001_run001/bold.nii.gz\n"
     ]
    }
   ],
   "source": [
    "data_path = os.path.join(notebook_path, 'data')\n",
    "funct_file = os.path.join(data_path, 'ds107/sub001/BOLD/task001_run001/bold.nii.gz')\n",
    "print(funct_file)"
   ]
  },
  {
   "cell_type": "code",
   "execution_count": null,
   "metadata": {
    "collapsed": false
   },
   "outputs": [],
   "source": []
  },
  {
   "cell_type": "markdown",
   "metadata": {},
   "source": [
    "After importing the Trim module, we can create an instance of the Trim interface that we will call trim.\n",
    "We give it the functional file and the end index."
   ]
  },
  {
   "cell_type": "code",
   "execution_count": 3,
   "metadata": {
    "collapsed": false
   },
   "outputs": [
    {
     "name": "stderr",
     "output_type": "stream",
     "text": [
      "/Users/franzliem/anaconda/lib/python2.7/site-packages/nipy/labs/glm/glm.py:9: FutureWarning: Module nipy.labs.utils.routines deprecated, will be removed\n",
      "  from ..utils import mahalanobis\n",
      "/Users/franzliem/anaconda/lib/python2.7/site-packages/nipype/interfaces/nipy/model.py:18: FutureWarning: Module nipy.labs.glm deprecated, will be removed. Please use nipy.modalities.fmri.glm instead.\n",
      "  import nipy.labs.glm.glm as GLM\n"
     ]
    }
   ],
   "source": [
    "from nipype.interfaces.nipy.preprocess import Trim\n",
    "\n",
    "trim = Trim()\n",
    "trim.inputs.in_file = funct_file\n",
    "trim.inputs.end_index = 10\n"
   ]
  },
  {
   "cell_type": "code",
   "execution_count": 4,
   "metadata": {
    "collapsed": false
   },
   "outputs": [
    {
     "data": {
      "text/plain": [
       "<nipype.interfaces.base.InterfaceResult at 0x10062a950>"
      ]
     },
     "execution_count": 4,
     "metadata": {},
     "output_type": "execute_result"
    }
   ],
   "source": [
    "trim.run()"
   ]
  },
  {
   "cell_type": "code",
   "execution_count": 5,
   "metadata": {
    "collapsed": false
   },
   "outputs": [
    {
     "name": "stdout",
     "output_type": "stream",
     "text": [
      "bold_trim.nii.gz     first_10_vols.nii.gz \u001b[1m\u001b[34moutputs\u001b[m\u001b[m\r\n"
     ]
    }
   ],
   "source": [
    "!ls"
   ]
  },
  {
   "cell_type": "code",
   "execution_count": 6,
   "metadata": {
    "collapsed": false
   },
   "outputs": [
    {
     "name": "stdout",
     "output_type": "stream",
     "text": [
      "(64, 64, 35, 10)\n"
     ]
    }
   ],
   "source": [
    "import nibabel as nib\n",
    "trimmed_funct = nib.load('bold_trim.nii.gz')\n",
    "print(trimmed_funct.shape)"
   ]
  },
  {
   "cell_type": "markdown",
   "metadata": {},
   "source": [
    "By looking into the Trim help, we can see that by setting the out_file option we can control the created file's name."
   ]
  },
  {
   "cell_type": "code",
   "execution_count": 7,
   "metadata": {
    "collapsed": false,
    "slideshow": {
     "slide_type": "slide"
    }
   },
   "outputs": [
    {
     "name": "stdout",
     "output_type": "stream",
     "text": [
      "Simple interface to trim a few volumes from a 4d fmri nifti file\n",
      "\n",
      "Examples\n",
      "--------\n",
      ">>> from nipype.interfaces.nipy.preprocess import Trim\n",
      ">>> trim = Trim()\n",
      ">>> trim.inputs.in_file = 'functional.nii'\n",
      ">>> trim.inputs.begin_index = 3 # remove 3 first volumes\n",
      ">>> res = trim.run() # doctest: +SKIP\n",
      "\n",
      "Inputs::\n",
      "\n",
      "\t[Mandatory]\n",
      "\tin_file: (an existing file name)\n",
      "\t\tEPI image to trim\n",
      "\n",
      "\t[Optional]\n",
      "\tbegin_index: (an integer (int or long), nipype default value: 0)\n",
      "\t\tfirst volume\n",
      "\tend_index: (an integer (int or long), nipype default value: 0)\n",
      "\t\tlast volume indexed as in python (and 0 for last)\n",
      "\tignore_exception: (a boolean, nipype default value: False)\n",
      "\t\tPrint an error message instead of throwing an exception in case the\n",
      "\t\tinterface fails to run\n",
      "\tout_file: (a file name)\n",
      "\t\toutput filename\n",
      "\tsuffix: (a string, nipype default value: _trim)\n",
      "\t\tsuffix for out_file to use if no out_file provided\n",
      "\n",
      "Outputs::\n",
      "\n",
      "\tout_file: (an existing file name)\n",
      "\n"
     ]
    }
   ],
   "source": [
    "Trim.help()"
   ]
  },
  {
   "cell_type": "code",
   "execution_count": 8,
   "metadata": {
    "collapsed": false
   },
   "outputs": [
    {
     "data": {
      "text/plain": [
       "<nipype.interfaces.base.InterfaceResult at 0x103f74890>"
      ]
     },
     "execution_count": 8,
     "metadata": {},
     "output_type": "execute_result"
    }
   ],
   "source": [
    "trim = Trim()\n",
    "trim.inputs.in_file = funct_file\n",
    "trim.inputs.end_index = 10\n",
    "trim.inputs.out_file = 'first_10_vols.nii.gz'\n",
    "trim.run()"
   ]
  },
  {
   "cell_type": "markdown",
   "metadata": {},
   "source": [
    "Now a new file called first_10_vols.nii.gz exists"
   ]
  },
  {
   "cell_type": "code",
   "execution_count": 9,
   "metadata": {
    "collapsed": false
   },
   "outputs": [
    {
     "name": "stdout",
     "output_type": "stream",
     "text": [
      "bold_trim.nii.gz     first_10_vols.nii.gz \u001b[1m\u001b[34moutputs\u001b[m\u001b[m\r\n"
     ]
    }
   ],
   "source": [
    "!ls"
   ]
  },
  {
   "cell_type": "code",
   "execution_count": null,
   "metadata": {
    "collapsed": true
   },
   "outputs": [],
   "source": []
  }
 ],
 "metadata": {
  "celltoolbar": "Slideshow",
  "kernelspec": {
   "display_name": "Python 2",
   "language": "python",
   "name": "python2"
  },
  "language_info": {
   "codemirror_mode": {
    "name": "ipython",
    "version": 2
   },
   "file_extension": ".py",
   "mimetype": "text/x-python",
   "name": "python",
   "nbconvert_exporter": "python",
   "pygments_lexer": "ipython2",
   "version": "2.7.11"
  }
 },
 "nbformat": 4,
 "nbformat_minor": 0
}
