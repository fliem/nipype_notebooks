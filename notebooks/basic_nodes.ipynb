{
 "cells": [
  {
   "cell_type": "markdown",
   "metadata": {},
   "source": [
    "# Nodes\n",
    "\n",
    "Some text about what kind of nodes etc...\n"
   ]
  },
  {
   "cell_type": "markdown",
   "metadata": {},
   "source": [
    "## Single Node\n",
    "\n",
    "something about nodes in general...\n"
   ]
  },
  {
   "cell_type": "code",
   "execution_count": 68,
   "metadata": {
    "collapsed": true
   },
   "outputs": [],
   "source": [
    "from nipype import Node, Function\n",
    "\n",
    "def add_two(x):\n",
    "    return x + 2\n",
    "\n",
    "addtwo = Node(Function(input_names=[\"x\"],\n",
    "                       output_names=[\"val\"],\n",
    "                       function=add_two),\n",
    "              name='add_node')"
   ]
  },
  {
   "cell_type": "code",
   "execution_count": 69,
   "metadata": {
    "collapsed": true
   },
   "outputs": [],
   "source": [
    "addtwo.inputs.x = 4"
   ]
  },
  {
   "cell_type": "code",
   "execution_count": 70,
   "metadata": {
    "collapsed": true
   },
   "outputs": [],
   "source": [
    "res = addtwo.run()"
   ]
  },
  {
   "cell_type": "code",
   "execution_count": 71,
   "metadata": {
    "collapsed": false
   },
   "outputs": [
    {
     "data": {
      "text/plain": [
       "\n",
       "val = 6"
      ]
     },
     "execution_count": 71,
     "metadata": {},
     "output_type": "execute_result"
    }
   ],
   "source": [
    "res.outputs"
   ]
  },
  {
   "cell_type": "markdown",
   "metadata": {},
   "source": [
    "## IdentityInterface"
   ]
  },
  {
   "cell_type": "code",
   "execution_count": 53,
   "metadata": {
    "collapsed": false
   },
   "outputs": [
    {
     "data": {
      "image/png": "[encoded data removed]",
      "text/plain": [
       "<IPython.core.display.Image object>"
      ]
     },
     "execution_count": 53,
     "metadata": {},
     "output_type": "execute_result"
    }
   ],
   "source": [
    "import numpy as np\n",
    "from nipype import IdentityInterface\n",
    "\n",
    "inputNode = Node(IdentityInterface(fields=[\"data\"]), name=\"inputs_node\")\n",
    "someData = np.array([22, 23, 20, 26, 23, 23, 35, 22, 23, 25,\n",
    "                     22, 26, 26, 50, 34, 49, 36, 24, 25, 34])\n",
    "inputNode.inputs.data = someData\n",
    "\n",
    "\n",
    "def calc_mean(data_in):\n",
    "    return data_in.mean()\n",
    "\n",
    "def calc_std(data_in):\n",
    "    return data_in.std()\n",
    "\n",
    "def zstandardize(data, mean_value, std_value):\n",
    "    return (data - mean_value) / std_value\n",
    "\n",
    "node1 = Node(Function(input_names=['data_in'],\n",
    "                      output_names=['mean_out'],\n",
    "                      function=calc_mean),\n",
    "             name='calculate_mean')\n",
    "\n",
    "node2 = Node(Function(input_names=['data_in'],\n",
    "                      output_names=['std_out'],\n",
    "                      function=calc_std),\n",
    "             name='calculate_std')\n",
    "\n",
    "node3 = Node(Function(input_names=['data', 'mean_value', 'std_value'],\n",
    "                      output_names=['standard'],\n",
    "                      function=zstandardize),\n",
    "             name='zstandardize')\n",
    "\n",
    "wf = Workflow(name='exampleflow')\n",
    "wf.connect(inputNode, 'data', node1, 'data_in')\n",
    "wf.connect(inputNode, 'data', node2, 'data_in')\n",
    "wf.connect(inputNode, 'data', node3, 'data')\n",
    "wf.connect(node1, 'mean_out', node3, 'mean_value')\n",
    "wf.connect(node2, 'std_out', node3, 'std_value')\n",
    "eg = wf.run()\n",
    "\n",
    "wf.write_graph(graph2use='exec')\n",
    "Image(filename='graph_detailed.dot.png')"
   ]
  },
  {
   "cell_type": "code",
   "execution_count": null,
   "metadata": {
    "collapsed": true
   },
   "outputs": [],
   "source": []
  },
  {
   "cell_type": "markdown",
   "metadata": {},
   "source": [
    "## Function - simple node"
   ]
  },
  {
   "cell_type": "code",
   "execution_count": 67,
   "metadata": {
    "collapsed": false
   },
   "outputs": [
    {
     "data": {
      "text/plain": [
       "\n",
       "val = 6"
      ]
     },
     "execution_count": 67,
     "metadata": {},
     "output_type": "execute_result"
    }
   ],
   "source": [
    "def add_two(x):\n",
    "    return x + 2\n",
    "\n",
    "from nipype import Node, Function\n",
    "addtwo = Node(Function(input_names=[\"x\"],\n",
    "                       output_names=[\"val\"],\n",
    "                       function=add_two),\n",
    "              name='add_node')\n",
    "addtwo.inputs.x = 4\n",
    "\n",
    "res = addtwo.run()\n",
    "\n",
    "res.outputs"
   ]
  },
  {
   "cell_type": "code",
   "execution_count": null,
   "metadata": {
    "collapsed": true
   },
   "outputs": [],
   "source": []
  },
  {
   "cell_type": "code",
   "execution_count": null,
   "metadata": {
    "collapsed": true
   },
   "outputs": [],
   "source": []
  },
  {
   "cell_type": "markdown",
   "metadata": {},
   "source": [
    "## Function - multiple nodes"
   ]
  },
  {
   "cell_type": "code",
   "execution_count": 32,
   "metadata": {
    "collapsed": true
   },
   "outputs": [],
   "source": [
    "import numpy as np\n",
    "from nipype import Workflow, Node, Function\n",
    "\n",
    "def demean(data1):\n",
    "    return data1 - data1.mean()\n",
    "\n",
    "def zeroThreshold(data2):\n",
    "    return data2 >.astype('bool')\n"
   ]
  },
  {
   "cell_type": "code",
   "execution_count": 33,
   "metadata": {
    "collapsed": true
   },
   "outputs": [],
   "source": [
    "bla = np.array([1,2,3,4,5,6,7,8,9])"
   ]
  },
  {
   "cell_type": "code",
   "execution_count": 34,
   "metadata": {
    "collapsed": false
   },
   "outputs": [],
   "source": [
    "bla = demeanData(bla)"
   ]
  },
  {
   "cell_type": "code",
   "execution_count": 35,
   "metadata": {
    "collapsed": false
   },
   "outputs": [
    {
     "data": {
      "text/plain": [
       "array([ True,  True,  True,  True, False,  True,  True,  True,  True], dtype=bool)"
      ]
     },
     "execution_count": 35,
     "metadata": {},
     "output_type": "execute_result"
    }
   ],
   "source": [
    "binarizeData(bla)"
   ]
  },
  {
   "cell_type": "code",
   "execution_count": 22,
   "metadata": {
    "collapsed": false
   },
   "outputs": [],
   "source": [
    "\n",
    "\n",
    "wf = Workflow(name='personflow')\n",
    "node1 = Node(Function(input_names='person',\n",
    "                      output_names='node1_out',\n",
    "                      function=addFirstname),\n",
    "             name='firstname_nod')\n",
    "node2 = Node(Function(input_names='node2_in',\n",
    "                      output_names='out',\n",
    "                      function=addLastname),\n",
    "             name='lastname_nod')\n",
    "wf.connect(node1, 'node1_out', node2, 'node2_in')\n",
    "\n",
    "node1.inputs.person = {'language': 'python'}\n",
    "\n",
    "eg = wf.run()\n",
    "wf.write_graph(graph2use='exec')"
   ]
  },
  {
   "cell_type": "code",
   "execution_count": null,
   "metadata": {
    "collapsed": true
   },
   "outputs": [],
   "source": []
  },
  {
   "cell_type": "code",
   "execution_count": 40,
   "metadata": {
    "collapsed": false
   },
   "outputs": [
    {
     "ename": "TypeError",
     "evalue": "__init__() takes at least 3 arguments (2 given)",
     "output_type": "error",
     "traceback": [
      "\u001b[0;31m---------------------------------------------------------------------------\u001b[0m",
      "\u001b[0;31mTypeError\u001b[0m                                 Traceback (most recent call last)",
      "\u001b[0;32m<ipython-input-40-d1054b71b5b4>\u001b[0m in \u001b[0;36m<module>\u001b[0;34m()\u001b[0m\n\u001b[1;32m     10\u001b[0m node1 = Node(input_names=['in1'],\n\u001b[1;32m     11\u001b[0m              \u001b[0moutput_names\u001b[0m\u001b[0;34m=\u001b[0m\u001b[0;34m[\u001b[0m\u001b[0;34m'out1'\u001b[0m\u001b[0;34m]\u001b[0m\u001b[0;34m,\u001b[0m\u001b[0;34m\u001b[0m\u001b[0m\n\u001b[0;32m---> 12\u001b[0;31m              name='bladi')\n\u001b[0m\u001b[1;32m     13\u001b[0m \u001b[0;34m\u001b[0m\u001b[0m\n\u001b[1;32m     14\u001b[0m \u001b[0;34m\u001b[0m\u001b[0m\n",
      "\u001b[0;31mTypeError\u001b[0m: __init__() takes at least 3 arguments (2 given)"
     ]
    }
   ],
   "source": [
    "def calc_mean(data):\n",
    "    return data.mean()\n",
    "\n",
    "def calc_std(data):\n",
    "    return data.std()\n",
    "\n",
    "def zstandardize(data, mean_value, std_value):\n",
    "    return (data - mean_value) / std_value\n",
    "\n",
    "node1 = Node(Function(input_names=['data'],\n",
    "                      output_names=['mean_out'],\n",
    "                      function=calc_mean),\n",
    "             name='calculate_mean')\n",
    "\n",
    "node2 = Node(Function(input_names=['data'],\n",
    "                      output_names=['std_out'],\n",
    "                      function=calc_std),\n",
    "             name='calculate_std')\n",
    "\n",
    "someData = np.array([22, 23, 20, 26, 23, 23, 35, 22, 23, 25,\n",
    "                     22, 26, 26, 50, 34, 49, 36, 24, 25, 34])\n",
    "node1.inputs.data = someData\n",
    "node2.inputs.data = someData\n"
   ]
  },
  {
   "cell_type": "code",
   "execution_count": null,
   "metadata": {
    "collapsed": true
   },
   "outputs": [],
   "source": []
  },
  {
   "cell_type": "code",
   "execution_count": null,
   "metadata": {
    "collapsed": true
   },
   "outputs": [],
   "source": [
    "\n",
    "node3 = JoinNode(Function(input_names=['data3'],\n",
    "                          output_names=['data_repeated'],\n",
    "                          function=replicate),\n",
    "                 name='replicate_data',\n",
    "                 joinsource=node1,\n",
    "                 joinfield=['data3'])\n",
    "\n",
    "wf = Workflow(name='testjoin')\n",
    "wf.connect(node1, 'data1', node2, 'data2')\n",
    "wf.connect(node2, 'data_scaled', node3, 'data3')\n",
    "eg = wf.run()\n",
    "\n",
    "wf.write_graph(graph2use='exec')\n",
    "Image(filename='graph_detailed.dot.png')"
   ]
  },
  {
   "cell_type": "code",
   "execution_count": null,
   "metadata": {
    "collapsed": true
   },
   "outputs": [],
   "source": []
  },
  {
   "cell_type": "code",
   "execution_count": 23,
   "metadata": {
    "collapsed": false
   },
   "outputs": [
    {
     "data": {
      "image/png": "[encoded data removed]",
      "text/plain": [
       "<IPython.core.display.Image object>"
      ]
     },
     "execution_count": 23,
     "metadata": {},
     "output_type": "execute_result"
    }
   ],
   "source": [
    "from IPython.display import Image\n",
    "Image(filename='graph_detailed.dot.png')"
   ]
  },
  {
   "cell_type": "code",
   "execution_count": null,
   "metadata": {
    "collapsed": true
   },
   "outputs": [],
   "source": [
    "from nipype import Workflow, Node, MapNode, JoinNode\n",
    "from nipype.interfaces.utility import Function"
   ]
  },
  {
   "cell_type": "code",
   "execution_count": 4,
   "metadata": {
    "collapsed": false
   },
   "outputs": [
    {
     "ename": "TypeError",
     "evalue": "__init__() takes at least 3 arguments (2 given)",
     "output_type": "error",
     "traceback": [
      "\u001b[0;31m---------------------------------------------------------------------------\u001b[0m",
      "\u001b[0;31mTypeError\u001b[0m                                 Traceback (most recent call last)",
      "\u001b[0;32m<ipython-input-4-fa1847fd5c39>\u001b[0m in \u001b[0;36m<module>\u001b[0;34m()\u001b[0m\n\u001b[0;32m----> 1\u001b[0;31m \u001b[0mnode1\u001b[0m \u001b[0;34m=\u001b[0m \u001b[0mNode\u001b[0m\u001b[0;34m(\u001b[0m\u001b[0mname\u001b[0m\u001b[0;34m=\u001b[0m\u001b[0;34m'name_node1'\u001b[0m\u001b[0;34m)\u001b[0m\u001b[0;34m\u001b[0m\u001b[0m\n\u001b[0m\u001b[1;32m      2\u001b[0m \u001b[0mnode2\u001b[0m \u001b[0;34m=\u001b[0m \u001b[0mNode\u001b[0m\u001b[0;34m(\u001b[0m\u001b[0mname\u001b[0m\u001b[0;34m=\u001b[0m\u001b[0;34m'name_node2'\u001b[0m\u001b[0;34m)\u001b[0m\u001b[0;34m\u001b[0m\u001b[0m\n\u001b[1;32m      3\u001b[0m \u001b[0mnode3\u001b[0m \u001b[0;34m=\u001b[0m \u001b[0mNode\u001b[0m\u001b[0;34m(\u001b[0m\u001b[0mname\u001b[0m\u001b[0;34m=\u001b[0m\u001b[0;34m'name_node3'\u001b[0m\u001b[0;34m)\u001b[0m\u001b[0;34m\u001b[0m\u001b[0m\n\u001b[1;32m      4\u001b[0m \u001b[0;34m\u001b[0m\u001b[0m\n\u001b[1;32m      5\u001b[0m \u001b[0mwf\u001b[0m \u001b[0;34m=\u001b[0m \u001b[0mWorkflow\u001b[0m\u001b[0;34m(\u001b[0m\u001b[0mname\u001b[0m\u001b[0;34m=\u001b[0m\u001b[0;34m'exampleFlow'\u001b[0m\u001b[0;34m)\u001b[0m\u001b[0;34m\u001b[0m\u001b[0m\n",
      "\u001b[0;31mTypeError\u001b[0m: __init__() takes at least 3 arguments (2 given)"
     ]
    }
   ],
   "source": [
    "node1 = Node(name='name_node1')\n",
    "node2 = Node(name='name_node2')\n",
    "node3 = Node(name='name_node3')\n",
    "\n",
    "wf = Workflow(name='exampleFlow')\n",
    "wf.connect(node1, 'data1', node2, 'data2')\n",
    "wf.connect(node1, 'data1', node2, 'data2')\n",
    "wf.connect(node1, 'data1', node2, 'data2')\n",
    "eg = wf.run()"
   ]
  },
  {
   "cell_type": "code",
   "execution_count": null,
   "metadata": {
    "collapsed": true
   },
   "outputs": [],
   "source": [
    "wf.write_graph(graph2use='exec')\n",
    "from IPython.display import Image\n",
    "Image(filename='graph_detailed.dot.png')"
   ]
  },
  {
   "cell_type": "code",
   "execution_count": null,
   "metadata": {
    "collapsed": true
   },
   "outputs": [],
   "source": []
  },
  {
   "cell_type": "code",
   "execution_count": 3,
   "metadata": {
    "collapsed": false
   },
   "outputs": [],
   "source": [
    "from nipype import Workflow, Node, MapNode, JoinNode\n",
    "from nipype.interfaces.utility import Function"
   ]
  },
  {
   "cell_type": "markdown",
   "metadata": {},
   "source": [
    "## Two node JoinNode demonstration\n",
    "\n",
    "The first node serves the _iterables_ and the second node aggregates and processes them. "
   ]
  },
  {
   "cell_type": "code",
   "execution_count": 2,
   "metadata": {
    "collapsed": false
   },
   "outputs": [
    {
     "name": "stderr",
     "output_type": "stream",
     "text": [
      "INFO:workflow:['check', 'execution', 'logging']\n",
      "INFO:workflow:Running serially.\n",
      "INFO:workflow:Executing node get_data.aI.a0 in dir: /var/folders/sm/488rz12j279_gyxrq7z971zw0000gn/T/tmpYjlbfD/testjoin/_id_1/get_data\n",
      "INFO:workflow:Executing node get_data.aI.a2 in dir: /var/folders/sm/488rz12j279_gyxrq7z971zw0000gn/T/tmpzTaPqW/testjoin/_id_3/get_data\n",
      "INFO:workflow:Executing node get_data.aI.a1 in dir: /var/folders/sm/488rz12j279_gyxrq7z971zw0000gn/T/tmpM8ikjj/testjoin/_id_2/get_data\n",
      "INFO:workflow:Executing node scale_data in dir: /var/folders/sm/488rz12j279_gyxrq7z971zw0000gn/T/tmpzwphOX/testjoin/scale_data\n"
     ]
    }
   ],
   "source": [
    "def get_data_from_id(id):\n",
    "    import numpy as np\n",
    "    return id + np.random.rand()\n",
    "\n",
    "def merge_and_scale_data(data2):\n",
    "    import numpy as np\n",
    "    return (np.array(data2) * 1000).tolist()\n",
    "\n",
    "node1 = Node(Function(input_names=['id'],\n",
    "                      output_names=['data1'],\n",
    "                      function=get_data_from_id),\n",
    "             name='get_data')\n",
    "node1.iterables = ('id', [1, 2, 3])\n",
    "\n",
    "node2 = JoinNode(Function(input_names=['data2'],\n",
    "                          output_names=['data_scaled'],\n",
    "                          function=merge_and_scale_data),\n",
    "                 name='scale_data',\n",
    "                 joinsource=node1,\n",
    "                 joinfield=['data2'])\n",
    "\n",
    "wf = Workflow(name='testjoin')\n",
    "wf.connect(node1, 'data1', node2, 'data2')\n",
    "eg = wf.run()"
   ]
  },
  {
   "cell_type": "code",
   "execution_count": 3,
   "metadata": {
    "collapsed": false
   },
   "outputs": [],
   "source": [
    "res = [node for node in eg.nodes() if 'scale_data' in node.name][0].result"
   ]
  },
  {
   "cell_type": "code",
   "execution_count": 4,
   "metadata": {
    "collapsed": false
   },
   "outputs": [
    {
     "data": {
      "text/plain": [
       "\n",
       "data_scaled = [1388.5030246509277, 2789.400910191879, 3625.4707467719486]"
      ]
     },
     "execution_count": 4,
     "metadata": {},
     "output_type": "execute_result"
    }
   ],
   "source": [
    "res.outputs"
   ]
  },
  {
   "cell_type": "code",
   "execution_count": 5,
   "metadata": {
    "collapsed": false
   },
   "outputs": [
    {
     "data": {
      "text/plain": [
       "{'data2': [1.3885030246509278, 2.7894009101918793, 3.6254707467719487],\n",
       " 'function_str': 'Vdef merge_and_scale_data(data2):\\\\u000a    import numpy as np\\\\u000a    return (np.array(data2) * 1000).tolist()\\\\u000a\\n.',\n",
       " 'ignore_exception': False}"
      ]
     },
     "execution_count": 5,
     "metadata": {},
     "output_type": "execute_result"
    }
   ],
   "source": [
    "res.inputs"
   ]
  },
  {
   "cell_type": "code",
   "execution_count": 6,
   "metadata": {
    "collapsed": false
   },
   "outputs": [
    {
     "data": {
      "text/plain": [
       "[(testjoin.get_data.aI.a1,\n",
       "  testjoin.scale_data,\n",
       "  {'connect': [('data1', 'data2J2')]}),\n",
       " (testjoin.get_data.aI.a2,\n",
       "  testjoin.scale_data,\n",
       "  {'connect': [('data1', 'data2J3')]}),\n",
       " (testjoin.get_data.aI.a0,\n",
       "  testjoin.scale_data,\n",
       "  {'connect': [('data1', 'data2J1')]})]"
      ]
     },
     "execution_count": 6,
     "metadata": {},
     "output_type": "execute_result"
    }
   ],
   "source": [
    "eg.edges(data=True)"
   ]
  },
  {
   "cell_type": "code",
   "execution_count": 7,
   "metadata": {
    "collapsed": false
   },
   "outputs": [
    {
     "name": "stderr",
     "output_type": "stream",
     "text": [
      "INFO:workflow:Creating detailed dot file: /software/temp/nipype-tutorial/temp/graph_detailed.dot\n",
      "INFO:workflow:Creating dot file: /software/temp/nipype-tutorial/temp/graph.dot\n"
     ]
    },
    {
     "data": {
      "image/png": "[encoded data removed]",
      "text/plain": [
       "<IPython.core.display.Image at 0x10f5057d0>"
      ]
     },
     "execution_count": 7,
     "metadata": {},
     "output_type": "execute_result"
    }
   ],
   "source": [
    "wf.write_graph(graph2use='exec')\n",
    "from IPython.display import Image\n",
    "Image(filename='graph_detailed.dot.png')"
   ]
  },
  {
   "cell_type": "markdown",
   "metadata": {},
   "source": [
    "## Extending to multiple nodes\n",
    "\n",
    "We extend the workflow by using three nodes. Note that even this workflow, the `joinsource` corresponds to the node containing _iterables_ and the `joinfield` corresponds to the input port of the `JoinNode` that aggregates the iterable branches. As before the graph below shows how the execution process is setup."
   ]
  },
  {
   "cell_type": "code",
   "execution_count": 8,
   "metadata": {
    "collapsed": false
   },
   "outputs": [
    {
     "name": "stderr",
     "output_type": "stream",
     "text": [
      "INFO:workflow:['check', 'execution', 'logging']\n",
      "INFO:workflow:Running serially.\n",
      "INFO:workflow:Executing node get_data.aI.a0 in dir: /var/folders/sm/488rz12j279_gyxrq7z971zw0000gn/T/tmpVGwMIU/testjoin/_id_1/get_data\n",
      "INFO:workflow:Executing node scale_data.a0 in dir: /var/folders/sm/488rz12j279_gyxrq7z971zw0000gn/T/tmpPW8b8l/testjoin/_id_1/scale_data\n",
      "INFO:workflow:Executing node get_data.aI.a2 in dir: /var/folders/sm/488rz12j279_gyxrq7z971zw0000gn/T/tmpX9Gzer/testjoin/_id_3/get_data\n",
      "INFO:workflow:Executing node scale_data.a2 in dir: /var/folders/sm/488rz12j279_gyxrq7z971zw0000gn/T/tmp659ckl/testjoin/_id_3/scale_data\n",
      "INFO:workflow:Executing node get_data.aI.a1 in dir: /var/folders/sm/488rz12j279_gyxrq7z971zw0000gn/T/tmpu0cusF/testjoin/_id_2/get_data\n",
      "INFO:workflow:Executing node scale_data.a1 in dir: /var/folders/sm/488rz12j279_gyxrq7z971zw0000gn/T/tmp6RK9kD/testjoin/_id_2/scale_data\n",
      "INFO:workflow:Executing node replicate_data in dir: /var/folders/sm/488rz12j279_gyxrq7z971zw0000gn/T/tmpcgi3xL/testjoin/replicate_data\n",
      "INFO:workflow:Creating detailed dot file: /software/temp/nipype-tutorial/temp/graph_detailed.dot\n",
      "INFO:workflow:Creating dot file: /software/temp/nipype-tutorial/temp/graph.dot\n"
     ]
    },
    {
     "data": {
      "image/png": "[encoded data removed]",
      "text/plain": [
       "<IPython.core.display.Image at 0x102f3ea50>"
      ]
     },
     "execution_count": 8,
     "metadata": {},
     "output_type": "execute_result"
    }
   ],
   "source": [
    "def get_data_from_id(id):\n",
    "    import numpy as np\n",
    "    return id + np.random.rand()\n",
    "\n",
    "def scale_data(data2):\n",
    "    import numpy as np\n",
    "    return data2\n",
    "\n",
    "def replicate(data3, nreps=2):\n",
    "    return data3 * nreps\n",
    "\n",
    "node1 = Node(Function(input_names=['id'],\n",
    "                      output_names=['data1'],\n",
    "                      function=get_data_from_id),\n",
    "             name='get_data')\n",
    "node1.iterables = ('id', [1, 2, 3])\n",
    "\n",
    "node2 = Node(Function(input_names=['data2'],\n",
    "                      output_names=['data_scaled'],\n",
    "                      function=scale_data),\n",
    "             name='scale_data')\n",
    "\n",
    "node3 = JoinNode(Function(input_names=['data3'],\n",
    "                          output_names=['data_repeated'],\n",
    "                          function=replicate),\n",
    "                 name='replicate_data',\n",
    "                 joinsource=node1,\n",
    "                 joinfield=['data3'])\n",
    "\n",
    "wf = Workflow(name='testjoin')\n",
    "wf.connect(node1, 'data1', node2, 'data2')\n",
    "wf.connect(node2, 'data_scaled', node3, 'data3')\n",
    "eg = wf.run()\n",
    "\n",
    "wf.write_graph(graph2use='exec')\n",
    "Image(filename='graph_detailed.dot.png')"
   ]
  },
  {
   "cell_type": "code",
   "execution_count": 8,
   "metadata": {
    "collapsed": false
   },
   "outputs": [],
   "source": []
  }
 ],
 "metadata": {
  "kernelspec": {
   "display_name": "Python 2",
   "language": "python",
   "name": "python2"
  },
  "language_info": {
   "codemirror_mode": {
    "name": "ipython",
    "version": 2
   },
   "file_extension": ".py",
   "mimetype": "text/x-python",
   "name": "python",
   "nbconvert_exporter": "python",
   "pygments_lexer": "ipython2",
   "version": "2.7.10"
  }
 },
 "nbformat": 4,
 "nbformat_minor": 0
}
