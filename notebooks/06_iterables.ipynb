{
 "cells": [
  {
   "cell_type": "markdown",
   "metadata": {
    "slideshow": {
     "slide_type": "slide"
    }
   },
   "source": [
    "# Iterables"
   ]
  },
  {
   "cell_type": "markdown",
   "metadata": {},
   "source": [
    "With our current setup we have graphs like this that analyses data from one subject\n",
    "\n",
    "![](http://nipy.org/nipype/_images/graphviz-b65596b443fdc105a6508acf176afcc6261aa65a.png)"
   ]
  },
  {
   "cell_type": "markdown",
   "metadata": {
    "slideshow": {
     "slide_type": "subslide"
    }
   },
   "source": [
    "Let's assume that we want to run our analysis over different subjects. The resulting graph \n",
    "would look something like this:\n",
    "![](http://nipy.org/nipype/_images/graphviz-675dc232294d6cecf3284efeace35923746f8ac8.png)\n"
   ]
  },
  {
   "cell_type": "markdown",
   "metadata": {
    "slideshow": {
     "slide_type": "subslide"
    }
   },
   "source": [
    "This can be performed with [iterables](http://nipy.org/nipype/users/mapnode_and_iterables.html#iterables)"
   ]
  },
  {
   "cell_type": "code",
   "execution_count": 1,
   "metadata": {
    "collapsed": false,
    "slideshow": {
     "slide_type": "slide"
    }
   },
   "outputs": [
    {
     "name": "stdout",
     "output_type": "stream",
     "text": [
      "/Users/franzliem/Dropbox/Workspace/nipype_notebooks/notebooks/outputs/06_iterables\n"
     ]
    }
   ],
   "source": [
    "import os\n",
    "try:\n",
    "    os.chdir(notebook_path)\n",
    "except:\n",
    "    notebook_path = os.path.abspath('.')\n",
    "\n",
    "output_path = os.path.abspath('outputs')\n",
    "if not os.path.exists(output_path):\n",
    "    os.mkdir(output_path)\n",
    "    \n",
    "wd_path = os.path.join(output_path, '06_iterables')\n",
    "if not os.path.exists(wd_path):\n",
    "    os.mkdir(wd_path)\n",
    "os.chdir(wd_path)\n",
    "print(wd_path)"
   ]
  },
  {
   "cell_type": "code",
   "execution_count": 4,
   "metadata": {
    "collapsed": false,
    "slideshow": {
     "slide_type": "subslide"
    }
   },
   "outputs": [],
   "source": [
    "from nipype.pipeline.engine import Node, Workflow\n",
    "from nipype.interfaces.io import DataSink, SelectFiles\n",
    "from nipype.interfaces.nipy.preprocess import Trim, FmriRealign4d\n",
    "\n",
    "workflow_path = os.path.join(wd_path, 'wf_4')\n",
    "wf = Workflow(name='iterables_wf')\n",
    "wf.base_dir = workflow_path\n",
    "wf.config['execution']['crashdump_dir'] = os.path.join(workflow_path, 'crash')\n",
    "wf.config['execution']['remove_unnecessary_outputs'] = False"
   ]
  },
  {
   "cell_type": "markdown",
   "metadata": {
    "slideshow": {
     "slide_type": "subslide"
    }
   },
   "source": [
    "Note that we now have an iterable to the input 'subject_id'.\n",
    "\n",
    "This interable is a list of 2 strings ('s01', 's02').\n",
    "\n",
    "In the rs string, '{subject_id}' is replaced by 's01' and 's02', respectively."
   ]
  },
  {
   "cell_type": "code",
   "execution_count": 5,
   "metadata": {
    "collapsed": false,
    "slideshow": {
     "slide_type": "-"
    }
   },
   "outputs": [],
   "source": [
    "data_path = os.path.join(notebook_path, 'data')\n",
    "\n",
    "file_template = {'funct': 'ds107/{subject_id}/BOLD/task001_run001/bold.nii.gz'}\n",
    "\n",
    "selectfiles = Node(SelectFiles(file_template, base_directory=data_path),\n",
    "                   name=\"selectfiles\")\n",
    "selectfiles.iterables = ('subject_id', ['sub001', 'sub044'])"
   ]
  },
  {
   "cell_type": "code",
   "execution_count": 6,
   "metadata": {
    "collapsed": false,
    "slideshow": {
     "slide_type": "subslide"
    }
   },
   "outputs": [
    {
     "name": "stderr",
     "output_type": "stream",
     "text": [
      "/Users/franzliem/anaconda/lib/python2.7/site-packages/nipype/interfaces/base.py:419: UserWarning: Input time_interp requires inputs: slice_order\n",
      "  warn(msg)\n"
     ]
    }
   ],
   "source": [
    "trim = Node(Trim(), 'trim')\n",
    "trim.inputs.end_index = 10\n",
    "wf.connect(selectfiles, 'funct', trim, 'in_file')\n",
    "\n",
    "realign = Node(FmriRealign4d(), 'realign')\n",
    "realign.inputs.tr = 3.\n",
    "realign.inputs.time_interp = True\n",
    "realign.inputs.slice_order = range(0,35)\n",
    "\n",
    "wf.connect(trim, 'out_file', realign, 'in_file')"
   ]
  },
  {
   "cell_type": "code",
   "execution_count": 7,
   "metadata": {
    "collapsed": true
   },
   "outputs": [],
   "source": [
    "ds_dir = os.path.join(wd_path, 'output_subjects')\n",
    "ds = Node(DataSink(), name='ds')\n",
    "ds.inputs.base_directory = ds_dir\n",
    "ds.inputs.regexp_substitutions = [\n",
    "    ('_subject_id_', '')\n",
    "]"
   ]
  },
  {
   "cell_type": "code",
   "execution_count": 8,
   "metadata": {
    "collapsed": true
   },
   "outputs": [],
   "source": [
    "wf.connect(realign, 'out_file', ds, 'realigned_data')"
   ]
  },
  {
   "cell_type": "code",
   "execution_count": 9,
   "metadata": {
    "collapsed": false
   },
   "outputs": [
    {
     "name": "stderr",
     "output_type": "stream",
     "text": [
      "/Users/franzliem/anaconda/lib/python2.7/site-packages/IPython/kernel/__init__.py:13: ShimWarning: The `IPython.kernel` package has been deprecated. You should import from ipykernel or jupyter_client instead.\n",
      "  \"You should import from ipykernel or jupyter_client instead.\", ShimWarning)\n",
      "/Users/franzliem/anaconda/lib/python2.7/site-packages/IPython/parallel.py:13: ShimWarning: The `IPython.parallel` package has been deprecated. You should import from ipyparallel instead.\n",
      "  \"You should import from ipyparallel instead.\", ShimWarning)\n",
      "INFO:workflow:['check', 'execution', 'logging']\n",
      "INFO:workflow:Running serially.\n",
      "INFO:workflow:Executing node selectfiles.aI.a0 in dir: /Users/franzliem/Dropbox/Workspace/nipype_notebooks/notebooks/outputs/06_iterables/wf_4/iterables_wf/_subject_id_sub001/selectfiles\n",
      "INFO:workflow:Executing node trim.a0 in dir: /Users/franzliem/Dropbox/Workspace/nipype_notebooks/notebooks/outputs/06_iterables/wf_4/iterables_wf/_subject_id_sub001/trim\n",
      "INFO:workflow:Executing node realign.a0 in dir: /Users/franzliem/Dropbox/Workspace/nipype_notebooks/notebooks/outputs/06_iterables/wf_4/iterables_wf/_subject_id_sub001/realign\n",
      "/Users/franzliem/anaconda/lib/python2.7/site-packages/nipype/interfaces/nipy/preprocess.py:162: FutureWarning: Please use SpaceTimeRealign instead of this class; We will soon remove this class\n",
      "  start=self.inputs.start)\n",
      "/Users/franzliem/anaconda/lib/python2.7/site-packages/nipy/algorithms/registration/groupwise_registration.py:1153: UserWarning: Please make sure you are NOT using SPM-style slice order declaration\n",
      "  warnings.warn('Please make sure you are NOT using '\n",
      "/Users/franzliem/anaconda/lib/python2.7/site-packages/nipy/io/files.py:145: FutureWarning: Default `strict` currently False; this will change to True in a future version of nipy\n",
      "  ni_img = nipy2nifti(img, data_dtype = io_dtype)\n",
      "INFO:workflow:Executing node ds.a0 in dir: /Users/franzliem/Dropbox/Workspace/nipype_notebooks/notebooks/outputs/06_iterables/wf_4/iterables_wf/_subject_id_sub001/ds\n",
      "INFO:interface:sub: /Users/franzliem/Dropbox/Workspace/nipype_notebooks/notebooks/outputs/06_iterables/output_subjects/realigned_data/_subject_id_sub001/corr_bold_trim.nii.gz -> /Users/franzliem/Dropbox/Workspace/nipype_notebooks/notebooks/outputs/06_iterables/output_subjects/realigned_data/sub001/corr_bold_trim.nii.gz\n",
      "INFO:workflow:Executing node selectfiles.aI.a1 in dir: /Users/franzliem/Dropbox/Workspace/nipype_notebooks/notebooks/outputs/06_iterables/wf_4/iterables_wf/_subject_id_sub044/selectfiles\n",
      "INFO:workflow:Executing node trim.a1 in dir: /Users/franzliem/Dropbox/Workspace/nipype_notebooks/notebooks/outputs/06_iterables/wf_4/iterables_wf/_subject_id_sub044/trim\n",
      "INFO:workflow:Executing node realign.a1 in dir: /Users/franzliem/Dropbox/Workspace/nipype_notebooks/notebooks/outputs/06_iterables/wf_4/iterables_wf/_subject_id_sub044/realign\n",
      "INFO:workflow:Executing node ds.a1 in dir: /Users/franzliem/Dropbox/Workspace/nipype_notebooks/notebooks/outputs/06_iterables/wf_4/iterables_wf/_subject_id_sub044/ds\n",
      "INFO:interface:sub: /Users/franzliem/Dropbox/Workspace/nipype_notebooks/notebooks/outputs/06_iterables/output_subjects/realigned_data/_subject_id_sub044/corr_bold_trim.nii.gz -> /Users/franzliem/Dropbox/Workspace/nipype_notebooks/notebooks/outputs/06_iterables/output_subjects/realigned_data/sub044/corr_bold_trim.nii.gz\n"
     ]
    },
    {
     "data": {
      "text/plain": [
       "<networkx.classes.digraph.DiGraph at 0x10feaed50>"
      ]
     },
     "execution_count": 9,
     "metadata": {},
     "output_type": "execute_result"
    }
   ],
   "source": [
    "wf.run()"
   ]
  },
  {
   "cell_type": "code",
   "execution_count": 10,
   "metadata": {
    "collapsed": false
   },
   "outputs": [
    {
     "name": "stdout",
     "output_type": "stream",
     "text": [
      "\u001b[1m\u001b[34moutput_subjects\u001b[m\u001b[m \u001b[1m\u001b[34mwf_4\u001b[m\u001b[m\r\n"
     ]
    }
   ],
   "source": [
    "!ls"
   ]
  },
  {
   "cell_type": "code",
   "execution_count": 12,
   "metadata": {
    "collapsed": false
   },
   "outputs": [
    {
     "name": "stdout",
     "output_type": "stream",
     "text": [
      "\u001b[1m\u001b[34msub001\u001b[m\u001b[m \u001b[1m\u001b[34msub044\u001b[m\u001b[m\r\n"
     ]
    }
   ],
   "source": [
    "!ls output_subjects/realigned_data"
   ]
  },
  {
   "cell_type": "code",
   "execution_count": 13,
   "metadata": {
    "collapsed": false
   },
   "outputs": [
    {
     "name": "stdout",
     "output_type": "stream",
     "text": [
      "corr_bold_trim.nii.gz\r\n"
     ]
    }
   ],
   "source": [
    "!ls output_subjects/realigned_data/sub001/"
   ]
  },
  {
   "cell_type": "code",
   "execution_count": null,
   "metadata": {
    "collapsed": true
   },
   "outputs": [],
   "source": []
  }
 ],
 "metadata": {
  "celltoolbar": "Slideshow",
  "kernelspec": {
   "display_name": "Python 2",
   "language": "python",
   "name": "python2"
  },
  "language_info": {
   "codemirror_mode": {
    "name": "ipython",
    "version": 2
   },
   "file_extension": ".py",
   "mimetype": "text/x-python",
   "name": "python",
   "nbconvert_exporter": "python",
   "pygments_lexer": "ipython2",
   "version": "2.7.11"
  }
 },
 "nbformat": 4,
 "nbformat_minor": 0
}
