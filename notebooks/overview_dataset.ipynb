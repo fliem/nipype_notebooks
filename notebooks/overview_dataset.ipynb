{
 "cells": [
  {
   "cell_type": "markdown",
   "metadata": {
    "collapsed": true
   },
   "source": [
    "<p style=\"text-align:center\"><font size=\"20\">BRAIN IMAGING</font></p>\n",
    "<p style=\"text-align:center\"><font size=\"20\">DATA STRUCTURE</font></p>"
   ]
  },
  {
   "cell_type": "markdown",
   "metadata": {},
   "source": [
    "The dataset for this tutorial is structured according to the [Brain Imaging Data Structure (BIDS)](http://bids.neuroimaging.io/). BIDS is a simple and intuitive way to organize and describe your neuroimaging and behavioral data. Neuroimaging experiments result in complicated data that can be arranged in many different ways. So far there is no consensus how to organize and share data obtained in neuroimaging experiments. BIDS tackles this problem by suggesting a new standard for the arrangement of neuroimaging datasets."
   ]
  },
  {
   "cell_type": "markdown",
   "metadata": {},
   "source": [
    "The idea of BIDS is that the file and folder names folllow a strict set of rules:\n",
    "\n",
    "<img src=\"http://bids.neuroimaging.io/bids2.png\" style=\"background-color:black;\"></img>\n"
   ]
  },
  {
   "cell_type": "markdown",
   "metadata": {},
   "source": [
    "Using the same structure for all of your studies will allow you to easily reuse all of your scripts between studies. But additionally, it also has the advantage that sharing code with and using scripts from other researchers will be much easier."
   ]
  },
  {
   "cell_type": "markdown",
   "metadata": {},
   "source": [
    "# Tutorial Dataset\n",
    "\n",
    "The dataset for this tutorial is coming from [https://openfmri.org/](https://openfmri.org/), a homepage dedicated to the free and open sharing of raw magnetic resonance imaging (MRI) datasets. We already downloaded the dataset [ds102](https://openfmri.org/dataset/ds000102/) into the data folder at the current location. To reduce the size of the total dataset, only the first three subjects (`sub-01`, `sub-02` and `sub-03`) were kept.\n",
    "\n",
    "So let's have a look at the tutorial dataset."
   ]
  },
  {
   "cell_type": "code",
   "execution_count": 1,
   "metadata": {
    "collapsed": false
   },
   "outputs": [
    {
     "name": "stdout",
     "output_type": "stream",
     "text": [
      "\u001b[01;34mdata/ds102\u001b[00m\r\n",
      "├── CHANGES\r\n",
      "├── dataset_description.json\r\n",
      "├── participants.tsv\r\n",
      "├── README\r\n",
      "├── \u001b[01;34msub-01\u001b[00m\r\n",
      "│   ├── \u001b[01;34manat\u001b[00m\r\n",
      "│   │   └── \u001b[01;31msub-01_T1w.nii.gz\u001b[00m\r\n",
      "│   └── \u001b[01;34mfunc\u001b[00m\r\n",
      "│       ├── \u001b[01;31msub-01_task-flankertask_run-01_bold.nii.gz\u001b[00m\r\n",
      "│       ├── sub-01_task-flankertask_run-01_events.tsv\r\n",
      "│       ├── \u001b[01;31msub-01_task-flankertask_run-02_bold.nii.gz\u001b[00m\r\n",
      "│       └── sub-01_task-flankertask_run-02_events.tsv\r\n",
      "├── \u001b[01;34msub-02\u001b[00m\r\n",
      "│   ├── \u001b[01;34manat\u001b[00m\r\n",
      "│   │   └── \u001b[01;31msub-02_T1w.nii.gz\u001b[00m\r\n",
      "│   └── \u001b[01;34mfunc\u001b[00m\r\n",
      "│       ├── \u001b[01;31msub-02_task-flankertask_run-01_bold.nii.gz\u001b[00m\r\n",
      "│       ├── sub-02_task-flankertask_run-01_events.tsv\r\n",
      "│       ├── \u001b[01;31msub-02_task-flankertask_run-02_bold.nii.gz\u001b[00m\r\n",
      "│       └── sub-02_task-flankertask_run-02_events.tsv\r\n",
      "├── \u001b[01;34msub-03\u001b[00m\r\n",
      "│   ├── \u001b[01;34manat\u001b[00m\r\n",
      "│   │   └── \u001b[01;31msub-03_T1w.nii.gz\u001b[00m\r\n",
      "│   └── \u001b[01;34mfunc\u001b[00m\r\n",
      "│       ├── \u001b[01;31msub-03_task-flankertask_run-01_bold.nii.gz\u001b[00m\r\n",
      "│       ├── sub-03_task-flankertask_run-01_events.tsv\r\n",
      "│       ├── \u001b[01;31msub-03_task-flankertask_run-02_bold.nii.gz\u001b[00m\r\n",
      "│       └── sub-03_task-flankertask_run-02_events.tsv\r\n",
      "└── task-flankertask_bold.json\r\n",
      "\r\n",
      "9 directories, 20 files\r\n"
     ]
    }
   ],
   "source": [
    "!tree data/ds102"
   ]
  },
  {
   "cell_type": "markdown",
   "metadata": {},
   "source": [
    "As you can, we have three subjects, each with one anatomical T1w image and with two functional images, `run-01` and `run-02`. To each of those functional images, we also have a tab-separated values file (`tva`), containing information such as stimuli onset, duration, type, etc.\n",
    "\n",
    "So let's have a look at one of them:"
   ]
  },
  {
   "cell_type": "code",
   "execution_count": 2,
   "metadata": {
    "collapsed": false
   },
   "outputs": [
    {
     "name": "stdout",
     "output_type": "stream",
     "text": [
      "onset\tduration\ttrial_type\tRsponse\tStimVar\tStimulus\tResponseTime\r\n",
      "0.0\t2.0\tincongruent_correct\t1\t2\t incongruent\t1095\r\n",
      "10.0\t2.0\tincongruent_correct\t1\t2\t incongruent\t988\r\n",
      "20.0\t2.0\tcongruent_correct\t1\t1\t congruent\t591\r\n",
      "30.0\t2.0\tcongruent_correct\t1\t1\t congruent\t499\r\n",
      "40.0\t2.0\tincongruent_correct\t1\t2\t incongruent\t719\r\n",
      "52.0\t2.0\tcongruent_correct\t1\t1\t congruent\t544\r\n",
      "64.0\t2.0\tcongruent_correct\t1\t1\t congruent\t436\r\n",
      "76.0\t2.0\tincongruent_correct\t1\t2\t incongruent\t470\r\n",
      "88.0\t2.0\tcongruent_correct\t1\t1\t congruent\t409\r\n",
      "102.0\t2.0\tincongruent_correct\t1\t2\t incongruent\t563\r\n",
      "116.0\t2.0\tcongruent_correct\t1\t1\t congruent\t493\r\n",
      "130.0\t2.0\tcongruent_correct\t1\t1\t congruent\t398\r\n",
      "140.0\t2.0\tcongruent_correct\t1\t1\t congruent\t466\r\n",
      "150.0\t2.0\tincongruent_correct\t1\t2\t incongruent\t518\r\n",
      "164.0\t2.0\tincongruent_correct\t1\t2\t incongruent\t560\r\n",
      "174.0\t2.0\tincongruent_correct\t1\t2\t incongruent\t533\r\n",
      "184.0\t2.0\tcongruent_correct\t1\t1\t congruent\t439\r\n",
      "196.0\t2.0\tcongruent_correct\t1\t1\t congruent\t458\r\n",
      "208.0\t2.0\tincongruent_correct\t1\t2\t incongruent\t734\r\n",
      "220.0\t2.0\tincongruent_correct\t1\t2\t incongruent\t479\r\n",
      "232.0\t2.0\tincongruent_correct\t1\t2\t incongruent\t538\r\n",
      "246.0\t2.0\tcongruent_correct\t1\t1\t congruent\t540\r\n",
      "260.0\t2.0\tincongruent_correct\t1\t2\t incongruent\t622\r\n",
      "274.0\t2.0\tcongruent_correct\t1\t1\t congruent\t488\r\n"
     ]
    }
   ],
   "source": [
    "!cat data/ds102/sub-01/func/sub-01_task-flankertask_run-01_events.tsv"
   ]
  }
 ],
 "metadata": {
  "kernelspec": {
   "display_name": "Python 2",
   "language": "python",
   "name": "python2"
  },
  "language_info": {
   "codemirror_mode": {
    "name": "ipython",
    "version": 2
   },
   "file_extension": ".py",
   "mimetype": "text/x-python",
   "name": "python",
   "nbconvert_exporter": "python",
   "pygments_lexer": "ipython2",
   "version": "2.7.10"
  }
 },
 "nbformat": 4,
 "nbformat_minor": 0
}
