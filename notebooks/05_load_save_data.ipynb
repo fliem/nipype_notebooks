{
 "cells": [
  {
   "cell_type": "markdown",
   "metadata": {
    "slideshow": {
     "slide_type": "slide"
    }
   },
   "source": [
    "# Load and save data"
   ]
  },
  {
   "cell_type": "markdown",
   "metadata": {},
   "source": [
    "Up until now, we always explicitly specified file names. If we want something more flexible (e.g., when working with multiple subjects, there is a nice interface for that:\n",
    "* [SelectFiles](http://nipy.org/nipype/users/select_files.html)\n",
    "\n",
    "\n",
    "---\n",
    "Up until now, we only lookt at data in the working directory. Usually, we are not interested in intermediate results. We can create an output directory that has only the data we want to store permatently:\n",
    "* [Data Sink](http://nipy.org/nipype/interfaces/generated/nipype.interfaces.io.html#datasink)"
   ]
  },
  {
   "cell_type": "code",
   "execution_count": 1,
   "metadata": {
    "collapsed": false,
    "slideshow": {
     "slide_type": "slide"
    }
   },
   "outputs": [
    {
     "name": "stdout",
     "output_type": "stream",
     "text": [
      "/Users/franzliem/Dropbox/Workspace/nipype_notebooks/notebooks/outputs/04_workflow\n"
     ]
    }
   ],
   "source": [
    "import os\n",
    "try:\n",
    "    os.chdir(notebook_path)\n",
    "except:\n",
    "    notebook_path = os.path.abspath('.')\n",
    "\n",
    "output_path = os.path.abspath('outputs')\n",
    "if not os.path.exists(output_path):\n",
    "    os.mkdir(output_path)\n",
    "    \n",
    "wd_path = os.path.join(output_path, '04_workflow')\n",
    "if not os.path.exists(wd_path):\n",
    "    os.mkdir(wd_path)\n",
    "os.chdir(wd_path)\n",
    "print(wd_path)"
   ]
  },
  {
   "cell_type": "markdown",
   "metadata": {
    "slideshow": {
     "slide_type": "slide"
    }
   },
   "source": [
    "# Workflow"
   ]
  },
  {
   "cell_type": "markdown",
   "metadata": {
    "slideshow": {
     "slide_type": "-"
    }
   },
   "source": [
    "Let's take the previous workflow "
   ]
  },
  {
   "cell_type": "code",
   "execution_count": 5,
   "metadata": {
    "collapsed": false,
    "slideshow": {
     "slide_type": "-"
    }
   },
   "outputs": [],
   "source": [
    "from nipype.pipeline.engine import Node, Workflow\n",
    "from nipype.interfaces.nipy.preprocess import Trim, FmriRealign4d\n",
    "\n",
    "workflow_path = os.path.join(wd_path, 'wf_3')\n",
    "wf = Workflow(name='load_save_wf')\n",
    "wf.base_dir = workflow_path\n",
    "wf.config['execution']['crashdump_dir'] = os.path.join(workflow_path, 'crash')\n",
    "wf.config['execution']['remove_unnecessary_outputs'] = False"
   ]
  },
  {
   "cell_type": "code",
   "execution_count": 6,
   "metadata": {
    "collapsed": false
   },
   "outputs": [
    {
     "name": "stderr",
     "output_type": "stream",
     "text": [
      "/Users/franzliem/anaconda/lib/python2.7/site-packages/nipype/interfaces/base.py:419: UserWarning: Input time_interp requires inputs: slice_order\n",
      "  warn(msg)\n"
     ]
    }
   ],
   "source": [
    "trim = Node(Trim(), 'trim')\n",
    "trim.inputs.end_index = 10\n",
    "\n",
    "realign = Node(FmriRealign4d(), 'realign')\n",
    "realign.inputs.tr = 3.\n",
    "realign.inputs.time_interp = True\n",
    "realign.inputs.slice_order = range(0,35)\n",
    "\n",
    "wf.connect(trim, 'out_file', realign, 'in_file')"
   ]
  },
  {
   "cell_type": "markdown",
   "metadata": {},
   "source": [
    "Note that we only connected the two nodes, we did not define input data"
   ]
  },
  {
   "cell_type": "markdown",
   "metadata": {
    "slideshow": {
     "slide_type": "subslide"
    }
   },
   "source": [
    "# SelectFiles"
   ]
  },
  {
   "cell_type": "code",
   "execution_count": 7,
   "metadata": {
    "collapsed": true,
    "slideshow": {
     "slide_type": "-"
    }
   },
   "outputs": [],
   "source": [
    "from nipype.interfaces.io import DataSink, SelectFiles"
   ]
  },
  {
   "cell_type": "code",
   "execution_count": 10,
   "metadata": {
    "collapsed": false
   },
   "outputs": [],
   "source": [
    "data_path = os.path.join(notebook_path, 'data')\n",
    "\n",
    "file_template = {'funct': 'ds107/sub001/BOLD/task001_run001/bold.nii.gz'}\n",
    "\n",
    "selectfiles = Node(SelectFiles(file_template, base_directory=data_path),\n",
    "                   name=\"selectfiles\")"
   ]
  },
  {
   "cell_type": "markdown",
   "metadata": {},
   "source": [
    "Now we connect selectfiles to moco:"
   ]
  },
  {
   "cell_type": "code",
   "execution_count": 11,
   "metadata": {
    "collapsed": true
   },
   "outputs": [],
   "source": [
    "wf.connect(selectfiles, 'funct', trim, 'in_file')"
   ]
  },
  {
   "cell_type": "markdown",
   "metadata": {
    "slideshow": {
     "slide_type": "subslide"
    }
   },
   "source": [
    "If we had more than one file we could define the template like this:"
   ]
  },
  {
   "cell_type": "code",
   "execution_count": 12,
   "metadata": {
    "collapsed": true
   },
   "outputs": [],
   "source": [
    "file_template = {'funct': 'in_data/s01/rs_10TRs.nii.gz',\n",
    "                'anat':'data/ds107/sub001/anatomy/highres001.nii.gz'}"
   ]
  },
  {
   "cell_type": "markdown",
   "metadata": {
    "slideshow": {
     "slide_type": "subslide"
    }
   },
   "source": [
    "# DataSink"
   ]
  },
  {
   "cell_type": "code",
   "execution_count": 14,
   "metadata": {
    "collapsed": true
   },
   "outputs": [],
   "source": [
    "ds_dir = os.path.join(wd_path, 'output_data')\n",
    "\n",
    "ds = Node(DataSink(), name='ds')\n",
    "ds.inputs.base_directory = ds_dir"
   ]
  },
  {
   "cell_type": "markdown",
   "metadata": {},
   "source": [
    "compare the style of the base_directory definintion of selectfiles. They work interchangeably"
   ]
  },
  {
   "cell_type": "markdown",
   "metadata": {
    "slideshow": {
     "slide_type": "subslide"
    }
   },
   "source": [
    "Now we connect the output of smoothing with datasink"
   ]
  },
  {
   "cell_type": "code",
   "execution_count": 15,
   "metadata": {
    "collapsed": true
   },
   "outputs": [],
   "source": [
    "wf.connect(realign, 'out_file', ds, 'realigned_data')"
   ]
  },
  {
   "cell_type": "markdown",
   "metadata": {},
   "source": [
    "and run the workflow"
   ]
  },
  {
   "cell_type": "code",
   "execution_count": 16,
   "metadata": {
    "collapsed": false
   },
   "outputs": [
    {
     "name": "stderr",
     "output_type": "stream",
     "text": [
      "/Users/franzliem/anaconda/lib/python2.7/site-packages/IPython/kernel/__init__.py:13: ShimWarning: The `IPython.kernel` package has been deprecated. You should import from ipykernel or jupyter_client instead.\n",
      "  \"You should import from ipykernel or jupyter_client instead.\", ShimWarning)\n",
      "/Users/franzliem/anaconda/lib/python2.7/site-packages/IPython/parallel.py:13: ShimWarning: The `IPython.parallel` package has been deprecated. You should import from ipyparallel instead.\n",
      "  \"You should import from ipyparallel instead.\", ShimWarning)\n",
      "INFO:workflow:['check', 'execution', 'logging']\n",
      "INFO:workflow:Running serially.\n",
      "INFO:workflow:Executing node selectfiles in dir: /Users/franzliem/Dropbox/Workspace/nipype_notebooks/notebooks/outputs/04_workflow/wf_1/my_first_wf/selectfiles\n",
      "INFO:workflow:Executing node trim in dir: /Users/franzliem/Dropbox/Workspace/nipype_notebooks/notebooks/outputs/04_workflow/wf_1/my_first_wf/trim\n",
      "INFO:workflow:Collecting precomputed outputs\n",
      "INFO:workflow:Executing node realign in dir: /Users/franzliem/Dropbox/Workspace/nipype_notebooks/notebooks/outputs/04_workflow/wf_1/my_first_wf/realign\n",
      "/Users/franzliem/anaconda/lib/python2.7/site-packages/nipype/interfaces/nipy/preprocess.py:162: FutureWarning: Please use SpaceTimeRealign instead of this class; We will soon remove this class\n",
      "  start=self.inputs.start)\n",
      "/Users/franzliem/anaconda/lib/python2.7/site-packages/nipy/algorithms/registration/groupwise_registration.py:1153: UserWarning: Please make sure you are NOT using SPM-style slice order declaration\n",
      "  warnings.warn('Please make sure you are NOT using '\n",
      "/Users/franzliem/anaconda/lib/python2.7/site-packages/nipy/io/files.py:145: FutureWarning: Default `strict` currently False; this will change to True in a future version of nipy\n",
      "  ni_img = nipy2nifti(img, data_dtype = io_dtype)\n",
      "INFO:workflow:Executing node ds in dir: /Users/franzliem/Dropbox/Workspace/nipype_notebooks/notebooks/outputs/04_workflow/wf_1/my_first_wf/ds\n"
     ]
    },
    {
     "data": {
      "text/plain": [
       "<networkx.classes.digraph.DiGraph at 0x110374a90>"
      ]
     },
     "execution_count": 16,
     "metadata": {},
     "output_type": "execute_result"
    }
   ],
   "source": [
    "wf.run()"
   ]
  },
  {
   "cell_type": "code",
   "execution_count": null,
   "metadata": {
    "collapsed": true
   },
   "outputs": [],
   "source": []
  }
 ],
 "metadata": {
  "celltoolbar": "Slideshow",
  "kernelspec": {
   "display_name": "Python 2",
   "language": "python",
   "name": "python2"
  },
  "language_info": {
   "codemirror_mode": {
    "name": "ipython",
    "version": 2
   },
   "file_extension": ".py",
   "mimetype": "text/x-python",
   "name": "python",
   "nbconvert_exporter": "python",
   "pygments_lexer": "ipython2",
   "version": "2.7.11"
  }
 },
 "nbformat": 4,
 "nbformat_minor": 0
}
