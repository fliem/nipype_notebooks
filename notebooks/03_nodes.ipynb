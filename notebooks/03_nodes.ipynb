{
 "cells": [
  {
   "cell_type": "markdown",
   "metadata": {
    "slideshow": {
     "slide_type": "slide"
    }
   },
   "source": [
    "# Nodes"
   ]
  },
  {
   "cell_type": "markdown",
   "metadata": {},
   "source": [
    "Typically, we will use interfaces embedded in nodes.\n",
    "\n",
    "From http://nipy.org/nipype/api/generated/nipype.pipeline.engine.html#node\n",
    "\n",
    "Nodes wrap interface objects for use in pipeline\n",
    "\n",
    ">A Node creates a sandbox-like directory for executing the underlying interface. It will copy or link inputs into this directory to ensure that input data are not overwritten. A hash of the input state is used to determine if the Node inputs have changed and whether the node needs to be re-executed."
   ]
  },
  {
   "cell_type": "code",
   "execution_count": 9,
   "metadata": {
    "collapsed": false,
    "slideshow": {
     "slide_type": "slide"
    }
   },
   "outputs": [
    {
     "name": "stdout",
     "output_type": "stream",
     "text": [
      "/Users/franzliem/Dropbox/Workspace/nipype_notebooks/notebooks/outputs/03_node\n"
     ]
    }
   ],
   "source": [
    "import os\n",
    "try:\n",
    "    os.chdir(notebook_path)\n",
    "except:\n",
    "    notebook_path = os.path.abspath('.')\n",
    "\n",
    "output_path = os.path.abspath('outputs')\n",
    "if not os.path.exists(output_path):\n",
    "    os.mkdir(output_path)\n",
    "    \n",
    "wd_path = os.path.join(output_path, '03_node')\n",
    "if not os.path.exists(wd_path):\n",
    "    os.mkdir(wd_path)\n",
    "os.chdir(wd_path)\n",
    "print(wd_path)"
   ]
  },
  {
   "cell_type": "code",
   "execution_count": 21,
   "metadata": {
    "collapsed": false
   },
   "outputs": [
    {
     "name": "stdout",
     "output_type": "stream",
     "text": [
      "/Users/franzliem/Dropbox/Workspace/nipype_notebooks/notebooks/data/ds107/sub001/BOLD/task001_run001/bold.nii.gz\n"
     ]
    }
   ],
   "source": [
    "data_path = os.path.join(notebook_path, 'data')\n",
    "funct_file = os.path.join(data_path, 'ds107/sub001/BOLD/task001_run001/bold.nii.gz')\n",
    "print(funct_file)"
   ]
  },
  {
   "cell_type": "markdown",
   "metadata": {},
   "source": [
    "Instead of just writing\n",
    "trim = Trim()\n",
    "we now need to define a Node() object, and pass Trim() as input agrument. Additionally, we need to define a node name."
   ]
  },
  {
   "cell_type": "code",
   "execution_count": 22,
   "metadata": {
    "collapsed": false,
    "slideshow": {
     "slide_type": "slide"
    }
   },
   "outputs": [
    {
     "name": "stderr",
     "output_type": "stream",
     "text": [
      "INFO:workflow:Executing node trim in dir: /Users/franzliem/Dropbox/Workspace/nipype_notebooks/notebooks/outputs/03_node/trim\n"
     ]
    },
    {
     "data": {
      "text/plain": [
       "<nipype.interfaces.base.InterfaceResult at 0x11010e550>"
      ]
     },
     "execution_count": 22,
     "metadata": {},
     "output_type": "execute_result"
    }
   ],
   "source": [
    "from nipype.pipeline.engine import Node\n",
    "from nipype.interfaces.nipy.preprocess import Trim\n",
    "\n",
    "trim = Node(interface=Trim(), name='trim')\n",
    "trim.inputs.in_file = funct_file\n",
    "trim.inputs.end_index = 10\n",
    "trim.base_dir = wd_path\n",
    "trim.run()\n"
   ]
  },
  {
   "cell_type": "markdown",
   "metadata": {},
   "source": [
    "TrimNote that        \n",
    "   \n",
    "```trim = Node(Trim(), 'trim')```\n",
    "\n",
    "is equivalent to \n",
    "\n",
    "```trim = Node(interface=Trim(), name='trim')```\n",
    "\n"
   ]
  },
  {
   "cell_type": "markdown",
   "metadata": {},
   "source": [
    "Note that we now have a subfolder with the name of the node"
   ]
  },
  {
   "cell_type": "code",
   "execution_count": 24,
   "metadata": {
    "collapsed": false
   },
   "outputs": [
    {
     "name": "stdout",
     "output_type": "stream",
     "text": [
      "\u001b[1m\u001b[34mtrim\u001b[m\u001b[m\r\n"
     ]
    }
   ],
   "source": [
    "!ls\n"
   ]
  },
  {
   "cell_type": "markdown",
   "metadata": {},
   "source": [
    "Within that subfolder there are now more files than just the output file."
   ]
  },
  {
   "cell_type": "code",
   "execution_count": 25,
   "metadata": {
    "collapsed": false
   },
   "outputs": [
    {
     "name": "stdout",
     "output_type": "stream",
     "text": [
      "_0x199322f066e7989f8a8b2bbc929721a4.json\r\n",
      "_inputs.pklz\r\n",
      "_node.pklz\r\n",
      "\u001b[1m\u001b[34m_report\u001b[m\u001b[m\r\n",
      "bold_trim.nii.gz\r\n",
      "result_trim.pklz\r\n"
     ]
    }
   ],
   "source": [
    "!ls trim"
   ]
  },
  {
   "cell_type": "markdown",
   "metadata": {
    "collapsed": true,
    "slideshow": {
     "slide_type": "subslide"
    }
   },
   "source": [
    "## Note that if you re-run a node, it only will re-calculate the results, if the input has changed! "
   ]
  },
  {
   "cell_type": "code",
   "execution_count": 26,
   "metadata": {
    "collapsed": false
   },
   "outputs": [
    {
     "name": "stderr",
     "output_type": "stream",
     "text": [
      "INFO:workflow:Executing node trim in dir: /Users/franzliem/Dropbox/Workspace/nipype_notebooks/notebooks/outputs/03_node/trim\n",
      "INFO:workflow:Collecting precomputed outputs\n"
     ]
    },
    {
     "data": {
      "text/plain": [
       "<nipype.interfaces.base.InterfaceResult at 0x1100ef8d0>"
      ]
     },
     "execution_count": 26,
     "metadata": {},
     "output_type": "execute_result"
    }
   ],
   "source": [
    "trim.run()"
   ]
  }
 ],
 "metadata": {
  "celltoolbar": "Slideshow",
  "kernelspec": {
   "display_name": "Python 2",
   "language": "python",
   "name": "python2"
  },
  "language_info": {
   "codemirror_mode": {
    "name": "ipython",
    "version": 2
   },
   "file_extension": ".py",
   "mimetype": "text/x-python",
   "name": "python",
   "nbconvert_exporter": "python",
   "pygments_lexer": "ipython2",
   "version": "2.7.11"
  }
 },
 "nbformat": 4,
 "nbformat_minor": 0
}
