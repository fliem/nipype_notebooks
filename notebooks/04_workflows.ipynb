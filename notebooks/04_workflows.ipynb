{
 "cells": [
  {
   "cell_type": "markdown",
   "metadata": {
    "slideshow": {
     "slide_type": "slide"
    }
   },
   "source": [
    "# Workflows"
   ]
  },
  {
   "cell_type": "markdown",
   "metadata": {},
   "source": [
    "Usually, we want to run more complex pipelines.\n",
    "\n",
    "The [workflow object](http://nipy.org/nipype/api/generated/nipype.pipeline.engine.html#workflow\n",
    ")\n",
    ">Controls the setup and execution of a pipeline of processes.\n"
   ]
  },
  {
   "cell_type": "code",
   "execution_count": null,
   "metadata": {
    "collapsed": false,
    "slideshow": {
     "slide_type": "subslide"
    }
   },
   "outputs": [],
   "source": [
    "import os\n",
    "try:\n",
    "    os.chdir(notebook_path)\n",
    "except:\n",
    "    notebook_path = os.path.abspath('.')\n",
    "\n",
    "output_path = os.path.abspath('outputs')\n",
    "if not os.path.exists(output_path):\n",
    "    os.mkdir(output_path)\n",
    "    \n",
    "wd_path = os.path.join(output_path, '04_workflow')\n",
    "if not os.path.exists(wd_path):\n",
    "    os.mkdir(wd_path)\n",
    "os.chdir(wd_path)\n",
    "print(wd_path)"
   ]
  },
  {
   "cell_type": "code",
   "execution_count": null,
   "metadata": {
    "collapsed": false
   },
   "outputs": [],
   "source": [
    "data_path = os.path.join(notebook_path, 'data')\n",
    "funct_file = os.path.join(data_path, 'ds005_R1.1.0/sub-16/func/sub-16_task-mixedgamblestask_run-01_bold.nii.gz')\n",
    "print(funct_file)"
   ]
  },
  {
   "cell_type": "markdown",
   "metadata": {
    "slideshow": {
     "slide_type": "slide"
    }
   },
   "source": [
    "# A very simple workflow"
   ]
  },
  {
   "cell_type": "markdown",
   "metadata": {
    "slideshow": {
     "slide_type": "-"
    }
   },
   "source": [
    "Let's start with basic workflow definition"
   ]
  },
  {
   "cell_type": "code",
   "execution_count": null,
   "metadata": {
    "collapsed": false
   },
   "outputs": [],
   "source": [
    "from nipype.pipeline.engine import Node, Workflow\n",
    "from nipype.interfaces.nipy.preprocess import Trim\n",
    "\n",
    "workflow_path = os.path.join(wd_path, 'wf_1')\n",
    "wf = Workflow(name='my_first_wf')\n",
    "wf.base_dir = workflow_path\n",
    "wf.config['execution']['crashdump_dir'] = os.path.join(workflow_path, 'crash')\n",
    "wf.config['execution']['remove_unnecessary_outputs'] = False"
   ]
  },
  {
   "cell_type": "markdown",
   "metadata": {
    "slideshow": {
     "slide_type": "subslide"
    }
   },
   "source": [
    "Let's define the first node of our wf"
   ]
  },
  {
   "cell_type": "code",
   "execution_count": null,
   "metadata": {
    "collapsed": false
   },
   "outputs": [],
   "source": [
    "trim = Node(Trim(), 'trim')\n",
    "trim.inputs.in_file = funct_file\n",
    "trim.inputs.end_index = 10"
   ]
  },
  {
   "cell_type": "markdown",
   "metadata": {
    "slideshow": {
     "slide_type": "subslide"
    }
   },
   "source": [
    "If we have only one node in our wf we can add the node to the workflow with __wf.add_nodes()__ and run the entire workflow with __wf.run()__"
   ]
  },
  {
   "cell_type": "code",
   "execution_count": null,
   "metadata": {
    "collapsed": false
   },
   "outputs": [],
   "source": [
    "wf.add_nodes([trim])\n",
    "wf.run()"
   ]
  },
  {
   "cell_type": "markdown",
   "metadata": {
    "slideshow": {
     "slide_type": "subslide"
    }
   },
   "source": [
    "## Now inspect the created directories"
   ]
  },
  {
   "cell_type": "code",
   "execution_count": null,
   "metadata": {
    "collapsed": false
   },
   "outputs": [],
   "source": [
    "!ls wf_1/my_first_wf/"
   ]
  },
  {
   "cell_type": "code",
   "execution_count": null,
   "metadata": {
    "collapsed": false
   },
   "outputs": [],
   "source": [
    "!ls wf_1/my_first_wf/trim"
   ]
  },
  {
   "cell_type": "markdown",
   "metadata": {
    "slideshow": {
     "slide_type": "slide"
    }
   },
   "source": [
    "# A more complex workflow"
   ]
  },
  {
   "cell_type": "markdown",
   "metadata": {},
   "source": [
    "Let's start with wf definition"
   ]
  },
  {
   "cell_type": "code",
   "execution_count": null,
   "metadata": {
    "collapsed": true
   },
   "outputs": [],
   "source": [
    "from nipype.pipeline.engine import Node, Workflow\n",
    "from nipype.interfaces.nipy.preprocess import Trim, FmriRealign4d\n",
    "\n",
    "workflow_path = os.path.join(wd_path, 'wf_2')\n",
    "wf = Workflow(name='my_second_wf')\n",
    "wf.base_dir = workflow_path\n",
    "wf.config['execution']['crashdump_dir'] = os.path.join(workflow_path, 'crash')\n",
    "wf.config['execution']['remove_unnecessary_outputs'] = False"
   ]
  },
  {
   "cell_type": "markdown",
   "metadata": {
    "slideshow": {
     "slide_type": "subslide"
    }
   },
   "source": [
    "Now we define 2 nodes"
   ]
  },
  {
   "cell_type": "code",
   "execution_count": null,
   "metadata": {
    "collapsed": false
   },
   "outputs": [],
   "source": [
    "trim = Node(Trim(), 'trim')\n",
    "trim.inputs.in_file = funct_file\n",
    "trim.inputs.end_index = 10\n",
    "\n",
    "realign = Node(FmriRealign4d(), 'realign')\n",
    "realign.inputs.tr = 3.\n",
    "realign.inputs.time_interp = True\n",
    "realign.inputs.slice_order = range(0,34)"
   ]
  },
  {
   "cell_type": "markdown",
   "metadata": {},
   "source": [
    "We now need to add nodes to our workflow and connect node inputs and outputs.\n",
    "\n",
    "Instead of using `add_nodes()` we now use __wf.connect()__\n",
    "\n",
    "Using the following command we can connect the 'out_file' field of trim with the 'in_file' field of realign."
   ]
  },
  {
   "cell_type": "code",
   "execution_count": null,
   "metadata": {
    "collapsed": false
   },
   "outputs": [],
   "source": [
    "wf.connect(trim, 'out_file', realign, 'in_file')"
   ]
  },
  {
   "cell_type": "markdown",
   "metadata": {
    "slideshow": {
     "slide_type": "subslide"
    }
   },
   "source": [
    "and run the entire workflow"
   ]
  },
  {
   "cell_type": "code",
   "execution_count": null,
   "metadata": {
    "collapsed": false
   },
   "outputs": [],
   "source": [
    "wf.run()"
   ]
  },
  {
   "cell_type": "markdown",
   "metadata": {
    "slideshow": {
     "slide_type": "subslide"
    }
   },
   "source": [
    "## Now inspect the created directories"
   ]
  },
  {
   "cell_type": "code",
   "execution_count": null,
   "metadata": {
    "collapsed": false
   },
   "outputs": [],
   "source": [
    "!ls wf_2/my_second_wf"
   ]
  },
  {
   "cell_type": "code",
   "execution_count": null,
   "metadata": {
    "collapsed": false
   },
   "outputs": [],
   "source": [
    "!ls wf_2/my_second_wf/trim"
   ]
  },
  {
   "cell_type": "code",
   "execution_count": null,
   "metadata": {
    "collapsed": false
   },
   "outputs": [],
   "source": [
    "!ls wf_2/my_second_wf/realign"
   ]
  },
  {
   "cell_type": "markdown",
   "metadata": {
    "slideshow": {
     "slide_type": "slide"
    }
   },
   "source": [
    "# Run workflows"
   ]
  },
  {
   "cell_type": "markdown",
   "metadata": {},
   "source": [
    "* `wf.run()` runs the workflow on your machine with in one process (core) (equal to `wf.run(plugin='Linear')`)\n",
    "\n",
    "\n",
    "* `wf.run(plugin='MultiProc', plugin_args={'n_procs' : 2})` runs it on your machine using 2 process in parallel\n",
    "\n",
    "\n",
    "* `wf.run(plugin='CondorDAGMan')` submits jobs to condor\n",
    "\n",
    "\n",
    "see http://www.mit.edu/~satra/nipype-nightly/users/plugins.html"
   ]
  }
 ],
 "metadata": {
  "celltoolbar": "Slideshow",
  "kernelspec": {
   "display_name": "Python 2",
   "language": "python",
   "name": "python2"
  },
  "language_info": {
   "codemirror_mode": {
    "name": "ipython",
    "version": 2
   },
   "file_extension": ".py",
   "mimetype": "text/x-python",
   "name": "python",
   "nbconvert_exporter": "python",
   "pygments_lexer": "ipython2",
   "version": "2.7.11"
  }
 },
 "nbformat": 4,
 "nbformat_minor": 0
}
