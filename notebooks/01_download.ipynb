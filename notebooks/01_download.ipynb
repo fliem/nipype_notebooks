{
 "cells": [
  {
   "cell_type": "code",
   "execution_count": 1,
   "metadata": {
    "collapsed": true
   },
   "outputs": [],
   "source": [
    "\n",
    "\n",
    "# Some preliminaries\n",
    "import os\n",
    "cwd = os.getcwd()\n",
    "tutorial_dir = os.path.abspath('data')\n",
    "if not os.path.exists(tutorial_dir):\n",
    "    os.mkdir(tutorial_dir)\n",
    "\n"
   ]
  },
  {
   "cell_type": "code",
   "execution_count": 2,
   "metadata": {
    "collapsed": false
   },
   "outputs": [
    {
     "name": "stdout",
     "output_type": "stream",
     "text": [
      "Retrieving: /Users/franzliem/Dropbox/Workspace/nipype_notebooks/notebooks/data/ds107/sub001/BOLD/task001_run001/bold.nii.gz\n",
      "Retrieving: /Users/franzliem/Dropbox/Workspace/nipype_notebooks/notebooks/data/ds107/sub001/anatomy/highres001.nii.gz\n",
      "Retrieving: /Users/franzliem/Dropbox/Workspace/nipype_notebooks/notebooks/data/ds107/sub044/BOLD/task001_run001/bold.nii.gz\n",
      "Retrieving: /Users/franzliem/Dropbox/Workspace/nipype_notebooks/notebooks/data/ds107/sub044/anatomy/highres001.nii.gz\n"
     ]
    }
   ],
   "source": [
    "import urllib\n",
    "required_files = ['ds107/sub001/BOLD/task001_run001/bold.nii.gz',\n",
    "                  'ds107/sub001/anatomy/highres001.nii.gz',\n",
    "                  'ds107/sub044/BOLD/task001_run001/bold.nii.gz',\n",
    "                  'ds107/sub044/anatomy/highres001.nii.gz'\n",
    "                  ]\n",
    "base_url = 'http://openfmri.aws.amazon.com.s3.amazonaws.com/'\n",
    "for filepath in required_files:\n",
    "    file_location = os.path.join(tutorial_dir, filepath)\n",
    "    if not os.path.exists(file_location):\n",
    "        print('Retrieving: ' + file_location)\n",
    "        os.makedirs(os.path.dirname(file_location))\n",
    "        urllib.urlretrieve(base_url + filepath, file_location)"
   ]
  },
  {
   "cell_type": "code",
   "execution_count": null,
   "metadata": {
    "collapsed": true
   },
   "outputs": [],
   "source": []
  }
 ],
 "metadata": {
  "kernelspec": {
   "display_name": "Python 2",
   "language": "python",
   "name": "python2"
  },
  "language_info": {
   "codemirror_mode": {
    "name": "ipython",
    "version": 2
   },
   "file_extension": ".py",
   "mimetype": "text/x-python",
   "name": "python",
   "nbconvert_exporter": "python",
   "pygments_lexer": "ipython2",
   "version": "2.7.11"
  }
 },
 "nbformat": 4,
 "nbformat_minor": 0
}
