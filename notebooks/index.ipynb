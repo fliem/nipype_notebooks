{
 "cells": [
  {
   "cell_type": "markdown",
   "metadata": {},
   "source": [
    "# Nipype Tutorial\n",
    "\n",
    "Follow the links to explore the tutorial\n",
    "\n",
    "## Basics\n",
    "\n",
    "01. [download](01_download.ipynb)\n",
    "02. [inferfaces](02_inferfaces.ipynb)\n",
    "03. [nodes](03_nodes.ipynb)\n",
    "04. [workflows](04_workflows.ipynb)\n",
    "05. [load_save_data](05_load_save_data.ipynb)\n",
    "06. [iterables](06_iterables.ipynb)"
   ]
  }
 ],
 "metadata": {
  "kernelspec": {
   "display_name": "Python 2",
   "language": "python",
   "name": "python2"
  },
  "language_info": {
   "codemirror_mode": {
    "name": "ipython",
    "version": 2
   },
   "file_extension": ".py",
   "mimetype": "text/x-python",
   "name": "python",
   "nbconvert_exporter": "python",
   "pygments_lexer": "ipython2",
   "version": "2.7.11"
  }
 },
 "nbformat": 4,
 "nbformat_minor": 0
}
